{
 "cells": [
  {
   "cell_type": "markdown",
   "metadata": {
    "_cell_guid": "b08819f5-01fc-640e-c570-d7c370f34014"
   },
   "source": [
    "This document is a thorough overview of my process for building a predictive model for Kaggle's Titanic competition. I will provide all my essential steps in this model as well as the reasoning behind each decision I made. This model achieves a score of 82.78%, which is in the top 3% of all submissions at the time of this writing. This is a great introductory modeling exercise due to the simple nature of the data, yet there is still a lot to be gleaned from following a process that ultimately yields a high score.\n",
    "\n",
    "You can get my original code on my GitHub: https://github.com/zlatankr/Projects/tree/master/Titanic  \n",
    "You get also read my write-up on my blog:  https://zlatankr.github.io/posts/2017/01/30/kaggle-titanic "
   ]
  },
  {
   "cell_type": "markdown",
   "metadata": {
    "_cell_guid": "381ac8a1-9f18-f1bd-67ed-f165373c8d0f"
   },
   "source": [
    "### The Problem"
   ]
  },
  {
   "cell_type": "markdown",
   "metadata": {
    "_cell_guid": "76f20215-7870-47db-e2f0-c253a43aa8db"
   },
   "source": [
    "We are given information about a subset of the Titanic population and asked to build a predictive model that tells us whether or not a given passenger survived the shipwreck. We are given 10 basic explanatory variables, including passenger gender, age, and price of fare, among others. More details about the competition can be found on the Kaggle site, [here](https://www.kaggle.com/c/titanic). This is a classic binary classification problem, and we will be implementing a random forest classifer."
   ]
  },
  {
   "cell_type": "markdown",
   "metadata": {
    "_cell_guid": "0941247d-c2f1-a753-e4ff-583a88f2e7dc"
   },
   "source": [
    "### Exploratory Data Analysis"
   ]
  },
  {
   "cell_type": "markdown",
   "metadata": {
    "_cell_guid": "e99bef63-bd89-42e9-6897-aba6337b2afb"
   },
   "source": [
    "The goal of this section is to gain an understanding of our data in order to inform what we do in the feature engineering section.  \n",
    "\n",
    "We begin our exploratory data analysis by loading our standard modules."
   ]
  },
  {
   "cell_type": "code",
   "execution_count": null,
   "metadata": {
    "_cell_guid": "9ae4a31b-44ce-72b7-375b-1376bcc81142"
   },
   "outputs": [],
   "source": [
    "import os\n",
    "from typing import Tuple, List\n",
    "\n",
    "import pandas as pd\n",
    "import numpy as np"
   ]
  },
  {
   "cell_type": "markdown",
   "metadata": {
    "_cell_guid": "6e6e109b-469e-4210-18a9-59d56448fddc"
   },
   "source": [
    "We then load the data, which we have downloaded from the Kaggle website ([here](https://www.kaggle.com/c/titanic/data) is a link to the data if you need it)."
   ]
  },
  {
   "cell_type": "code",
   "execution_count": null,
   "metadata": {
    "_cell_guid": "e117a178-539a-d880-ab8c-5306d6d671f0"
   },
   "outputs": [],
   "source": [
    "train = pd.read_csv(os.path.join('../input', 'train.csv'))\n",
    "test = pd.read_csv(os.path.join('../input', 'test.csv'))"
   ]
  },
  {
   "cell_type": "markdown",
   "metadata": {
    "_cell_guid": "d67e8e9f-d809-7138-9ebc-c8c9fa1fb88c"
   },
   "source": [
    "First, let's take a look at the summary of all the data. Immediately, we note that `Age`, `Cabin`, and `Embarked` have nulls that we'll have to deal with. "
   ]
  },
  {
   "cell_type": "code",
   "execution_count": null,
   "metadata": {
    "_cell_guid": "166004fb-0092-7fb9-f890-1b764a7f6da9"
   },
   "outputs": [],
   "source": [
    "train.info()"
   ]
  },
  {
   "cell_type": "markdown",
   "metadata": {
    "_cell_guid": "928cc3b0-b08d-cd49-0c0a-993f51cc5070"
   },
   "source": [
    "It appears that we can drop the `PassengerId` column, since it is merely an index. Note, however, that some people have reportedly improved their score with the `PassengerId` column. However, my cursory attempt to do so did not yield positive results, and moreover I would like to mimic a real-life scenario, where an index of a dataset generally has no correlation with the target variable."
   ]
  },
  {
   "cell_type": "code",
   "execution_count": null,
   "metadata": {
    "_cell_guid": "2fee872c-6233-57b1-d6a8-d017ef15edbd"
   },
   "outputs": [],
   "source": [
    "train.head()"
   ]
  },
  {
   "cell_type": "markdown",
   "metadata": {
    "_cell_guid": "792b218a-b4c0-7a4a-2442-f375deee3581"
   },
   "source": [
    "### Feature Engineering"
   ]
  },
  {
   "cell_type": "markdown",
   "metadata": {
    "_cell_guid": "a69433b7-96b7-589b-4481-180206c1e5b2"
   },
   "source": [
    "Having done our cursory exploration of the variables, we now have a pretty good idea of how we want to transform our variables in preparation for our final dataset. We will perform our feature engineering through a series of helper functions that each serve a specific purpose. "
   ]
  },
  {
   "cell_type": "markdown",
   "metadata": {
    "_cell_guid": "906a9892-fe2a-ecd9-304d-ff4e63876867"
   },
   "source": [
    "This first function creates two separate columns: a numeric column indicating the length of a passenger's `Name` field, and a categorical column that extracts the passenger's title."
   ]
  },
  {
   "cell_type": "code",
   "execution_count": null,
   "metadata": {},
   "outputs": [],
   "source": [
    "def process_name(df: pd.DataFrame) -> pd.DataFrame:\n",
    "    \"\"\"\n",
    "    Creates two separate columns: a numeric column indicating the length of a\n",
    "    passenger's Name field, and a categorical column that extracts the\n",
    "    passenger's title.\n",
    "\n",
    "    Args:\n",
    "        df: The train or test set\n",
    "    \n",
    "    \"\"\"\n",
    "    df_new = df.copy()\n",
    "    df_new['Name_Len'] = df_new['Name'].apply(len)\n",
    "    df_new['Name_Title'] = df_new['Name'].apply(lambda x: x.split(',')[1]).apply(lambda x: x.split()[0])\n",
    "    return df_new"
   ]
  },
  {
   "cell_type": "markdown",
   "metadata": {
    "_cell_guid": "1a9f9d8b-eded-86e5-dd3f-a88e347b5135"
   },
   "source": [
    "Next, we impute the null values of the `Age` column by filling in the mean value of the passenger's corresponding title and class. This more granular approach to imputation should be more accurate than merely taking the mean age of the population."
   ]
  },
  {
   "cell_type": "code",
   "execution_count": null,
   "metadata": {},
   "outputs": [],
   "source": [
    "def _get_mean_age_if_exist(name_title: str, p_class: int, age_mean: np.float64, grouped_age_means: pd.Series):\n",
    "    \"\"\"\n",
    "    Given a title and class returns train set mean age if known, else global train set mean age.\n",
    "\n",
    "    Args:\n",
    "        name_title: Passenger title\n",
    "        p_class: Passenger class\n",
    "        age_mean: Global train set mean age\n",
    "        grouped_age_means: Train set mean age given a name title and p class\n",
    "    \n",
    "    \"\"\"\n",
    "    if (name_title, p_class) in grouped_age_means.index:\n",
    "        return grouped_age_means[name_title, p_class]\n",
    "    else:\n",
    "        return age_mean\n",
    "\n",
    "\n",
    "def impute_age(df: pd.DataFrame, age_mean: np.float64, grouped_age_means: pd.Series) -> pd.DataFrame:\n",
    "    \"\"\"\n",
    "    Imputes the null values of the Age column by filling in the mean value of\n",
    "    the passenger's corresponding title and class.\n",
    "\n",
    "    Args:\n",
    "        df: The train or test set\n",
    "        age_mean: Global train set mean age\n",
    "        grouped_age_means: Train set mean age given a name title and p class\n",
    "    \n",
    "    \"\"\"\n",
    "    df_new = df.copy()\n",
    "    df_new['Age_Null_Flag'] = df_new['Age'].isnull().apply(int)\n",
    "    df_new.loc[df_new['Age'].isnull(), \"Age\"] = df_new.loc[df_new['Age'].isnull()].apply(\n",
    "        lambda x: _get_mean_age_if_exist(x[\"Name_Title\"], x[\"Pclass\"], age_mean, grouped_age_means),\n",
    "        axis=1\n",
    "    ).copy()\n",
    "    return df_new"
   ]
  },
  {
   "cell_type": "markdown",
   "metadata": {
    "_cell_guid": "c8285f4f-4f76-6188-c8df-bef76efb3800"
   },
   "source": [
    "We combine the `SibSp` and `Parch` columns into a new variable that indicates family size, and group the family size variable into three categories."
   ]
  },
  {
   "cell_type": "code",
   "execution_count": null,
   "metadata": {},
   "outputs": [],
   "source": [
    "def size_family(df: pd.DataFrame) -> pd.DataFrame:\n",
    "    \"\"\"\n",
    "    Combines the SibSp and Parch columns into a new variable that indicates\n",
    "    family size, and group the family size variable into three categories.\n",
    "\n",
    "    Args:\n",
    "        df: The train or test set\n",
    "    \n",
    "    \"\"\"\n",
    "    df_new = df.copy()\n",
    "    df_new['Family_Size'] = np.where(\n",
    "        (df_new['SibSp'] + df_new['Parch']) == 0, 'Solo',\n",
    "        np.where(\n",
    "            (df_new['SibSp'] + df_new['Parch']) <= 3, 'Nuclear',\n",
    "            'Big'\n",
    "        )\n",
    "    )\n",
    "    return df_new"
   ]
  },
  {
   "attachments": {},
   "cell_type": "markdown",
   "metadata": {},
   "source": [
    "We also fill in the missing values of `Fare` in our test set with the mean value of `Fare` from the training set (transformations of test set data must always be fit using training data)."
   ]
  },
  {
   "cell_type": "code",
   "execution_count": null,
   "metadata": {},
   "outputs": [],
   "source": [
    "\n",
    "def fill_fare_na(df: pd.DataFrame, fare_mean: float) -> pd.DataFrame:\n",
    "    \"\"\"\n",
    "    Fills NA Fares values with fitted mean value.\n",
    "\n",
    "    Args:\n",
    "        df: The train or test set\n",
    "        fare_mean: Train set mean fare\n",
    "    \n",
    "    \"\"\"\n",
    "    df_new = df.copy()\n",
    "    df_new['Fare'].fillna(fare_mean, inplace=True)\n",
    "    return df_new"
   ]
  },
  {
   "cell_type": "markdown",
   "metadata": {
    "_cell_guid": "14acf849-b512-9eb4-37e3-427fc887b7c2"
   },
   "source": [
    "The `Ticket` column is used to create two new columns: `Ticket_Lett`, which indicates the first letter of each ticket (with the smaller-n values being grouped based on survival rate); and `Ticket_Len`, which indicates the length of the `Ticket` field. "
   ]
  },
  {
   "cell_type": "code",
   "execution_count": null,
   "metadata": {},
   "outputs": [],
   "source": [
    "def group_ticket(df: pd.DataFrame) -> pd.DataFrame:\n",
    "    \"\"\"\n",
    "    The Ticket column is used to create three new columns: Ticket_Letter, which\n",
    "    indicates the first letter of each ticket (with the smaller-n values being\n",
    "    grouped based on survival rate); Ticket_Category, which indicated the category\n",
    "    of the ticket, and Ticket_Length, which indicates the length of the Ticket field.\n",
    "\n",
    "    Args:\n",
    "        df: The train or test set\n",
    "    \n",
    "    \"\"\"\n",
    "    letter_group_1 = ['1', '2', '3', 'S', 'P', 'C', 'A']\n",
    "    letter_group_2 = ['W', '4', '7', '6', 'L', '5', '8']\n",
    "\n",
    "    df_new = df.copy()\n",
    "    df_new['Ticket_Letter'] = df_new['Ticket'].apply(lambda x: str(x)[0])\n",
    "    df_new['Ticket_Letter'] = df_new['Ticket_Letter'].apply(str)\n",
    "    df_new['Ticket_Category'] = np.where(\n",
    "                                (df_new['Ticket_Letter']).isin(letter_group_1), df_new['Ticket_Letter'],\n",
    "                                np.where(\n",
    "                                    (df_new['Ticket_Letter']).isin(letter_group_2), 'Low_ticket',\n",
    "                                    'Other_ticket'\n",
    "                                )\n",
    "                            )\n",
    "    df_new['Ticket_Length'] = df_new['Ticket'].apply(len)\n",
    "    return df_new"
   ]
  },
  {
   "cell_type": "markdown",
   "metadata": {
    "_cell_guid": "a240a933-c6ed-63c4-7e00-1b9f4eba5c89"
   },
   "source": [
    "The following two functions extract the first letter of the `Cabin` column and its number, respectively. "
   ]
  },
  {
   "cell_type": "code",
   "execution_count": null,
   "metadata": {},
   "outputs": [],
   "source": [
    "def get_cabin_first_letter(df: pd.DataFrame) -> pd.DataFrame:\n",
    "    \"\"\"\n",
    "    Extracts the first letter of the Cabin column.\n",
    "\n",
    "    Args:\n",
    "        df: The train or test set\n",
    "    \n",
    "    \"\"\"\n",
    "    df_new = df.copy()\n",
    "    df_new['Cabin_Letter'] = df_new['Cabin'].apply(lambda x: str(x)[0])\n",
    "    return df_new"
   ]
  },
  {
   "cell_type": "code",
   "execution_count": null,
   "metadata": {},
   "outputs": [],
   "source": [
    "def get_cabin_number(df: pd.DataFrame) -> pd.DataFrame:\n",
    "    \"\"\"\n",
    "    Extracts the number of the Cabin column.\n",
    "\n",
    "    Args:\n",
    "        df: The train or test set\n",
    "    \n",
    "    \"\"\"\n",
    "    df_new = df.copy()\n",
    "    df_new['Cabin_Number'] = df_new['Cabin'].apply(lambda x: str(x).split(' ')[-1][1:])\n",
    "    df_new['Cabin_Number'].replace('an', np.NaN, inplace=True)\n",
    "    df_new['Cabin_Number'] = df_new['Cabin_Number'].apply(\n",
    "        lambda x: int(x) if not pd.isnull(x) and x != '' else np.NaN\n",
    "    )\n",
    "    return df_new\n",
    "\n",
    "\n",
    "def get_dummy_cabin_number(df: pd.DataFrame, cabin_number_bins: np.ndarray) -> pd.DataFrame:\n",
    "    \"\"\"\n",
    "    Get the category from cabin number and dummify it.\n",
    "\n",
    "    Args:\n",
    "        df: The train or test set\n",
    "        cabin_number_bins: Cabin nubers categories\n",
    "    \n",
    "    \"\"\"\n",
    "    df_new = df.copy()\n",
    "    dummies_cols = [f\"Cabin_Number_{i}\" for i in range(3)]\n",
    "\n",
    "    df_new.loc[:, dummies_cols] = 0\n",
    "\n",
    "    concerned_index = df_new['Cabin_Number'].dropna().index\n",
    "\n",
    "    if df_new.loc[~df_new[\"Cabin_Number\"].isna()].shape[0] > 0:\n",
    "        categories = pd.cut(\n",
    "            df_new.loc[concerned_index, 'Cabin_Number'],\n",
    "            bins=cabin_number_bins,\n",
    "            labels=False,\n",
    "            include_lowest=True\n",
    "        )\n",
    "        df_new.loc[concerned_index, dummies_cols] = pd.get_dummies(categories, prefix=\"Cabin_Number\")\n",
    "\n",
    "    return df_new"
   ]
  },
  {
   "cell_type": "markdown",
   "metadata": {
    "_cell_guid": "194fdc08-b381-5d25-ab97-575bc257e465"
   },
   "source": [
    "We fill the null values in the `Embarked` column with the most commonly occuring value, which is 'S.'"
   ]
  },
  {
   "cell_type": "code",
   "execution_count": null,
   "metadata": {},
   "outputs": [],
   "source": [
    "\n",
    "def impute_embarked(df: pd.DataFrame) -> pd.DataFrame:\n",
    "    \"\"\"\n",
    "    Fills the null values in the Embarked column with the most commonly\n",
    "    occurring value, which is 'S'.\n",
    "\n",
    "    Args:\n",
    "        df: The train or test set\n",
    "    \n",
    "    \"\"\"\n",
    "    df_new = df.copy()\n",
    "    df_new['Embarked'] = df_new['Embarked'].fillna('S')\n",
    "    return df_new"
   ]
  },
  {
   "cell_type": "markdown",
   "metadata": {
    "_cell_guid": "594708ed-a233-dbbe-4f70-2d1e342ddad2",
    "pycharm": {
     "name": "#%% md\n"
    }
   },
   "source": [
    "Next, because we are using scikit-learn, we must convert our categorical columns into dummy variables. The following function does this, and then it drops the original categorical columns. It also makes sure that each category is present in both the training and test datasets."
   ]
  },
  {
   "cell_type": "code",
   "execution_count": null,
   "metadata": {},
   "outputs": [],
   "source": [
    "def dummy_cols(df: pd.DataFrame, dummy_columns: List[str], dummy_columns_values: List[str]) -> pd.DataFrame:\n",
    "    \"\"\"\n",
    "    Converts our categorical columns into dummy variables, and then drops the\n",
    "    original categorical columns. It also makes sure that each category is\n",
    "    present in both the training and test datasets.\n",
    "\n",
    "    Args:\n",
    "        df: The train or test set\n",
    "        dummy_columns: The columns to be dummified.\n",
    "        dummy_columns_values: The dummified columns values\n",
    "            Each different value from the train set dummy columns correspond to one feature.\n",
    "    \n",
    "    \"\"\"\n",
    "    df_new = df.copy()\n",
    "    df_new.loc[:, dummy_columns_values] = 0\n",
    "    df_new.loc[:, dummy_columns] = df_new.loc[:, dummy_columns].applymap(str)\n",
    "\n",
    "    dummies = pd.get_dummies(\n",
    "        df_new[dummy_columns], columns=dummy_columns, prefix=dummy_columns\n",
    "    )\n",
    "\n",
    "    dummies = dummies.drop([col for col in dummies.columns if col not in dummy_columns_values], axis=1)\n",
    "\n",
    "    df_new.loc[:, dummies.columns] = dummies\n",
    "    return df_new"
   ]
  },
  {
   "cell_type": "markdown",
   "metadata": {
    "_cell_guid": "c8b9d7eb-3afc-4082-f7b8-80d043c4f830",
    "pycharm": {
     "name": "#%% md\n"
    }
   },
   "source": [
    "Our last helper function drops any columns that haven't already been dropped. In our case, we only need to drop the `PassengerId` column, which we have decided is not useful for our problem (by the way, I've confirmed this with a separate test). Note that dropping the `PassengerId` column here means that we'll have to load it later when creating our submission file."
   ]
  },
  {
   "cell_type": "code",
   "execution_count": null,
   "metadata": {},
   "outputs": [],
   "source": [
    "def drop_cols(df: pd.DataFrame, drop_columns: List[str]) -> pd.DataFrame:\n",
    "    \"\"\"\n",
    "    Drops columns in the given list.\n",
    "\n",
    "    Args:\n",
    "        df: The train or test set\n",
    "        drop_columns: The columns to be dropped.\n",
    "    \n",
    "    \"\"\"\n",
    "    df_new = df.copy()\n",
    "    df_new = df_new.drop(drop_columns, axis=1)\n",
    "    return df_new\n",
    "        "
   ]
  },
  {
   "cell_type": "code",
   "execution_count": null,
   "metadata": {},
   "outputs": [],
   "source": [
    "def process_data(train: pd.DataFrame, test: pd.DataFrame, dummy_columns: list, drop_columns: list) -> Tuple[pd.DataFrame, pd.DataFrame]:\n",
    "    \"\"\"\n",
    "    Apply all neccessary transformations to clean train and test data\n",
    "\n",
    "    Args:\n",
    "        train: The train set\n",
    "        test: The test set\n",
    "        drop_columns: The columns to be dropped.\n",
    "        dummy_columns: The columns to be dummified.\n",
    "            \n",
    "    Returns:\n",
    "        new_train\n",
    "        new_test\n",
    "        \n",
    "    \"\"\"\n",
    "    train_processed = train.copy()\n",
    "    test_processed = test.copy()\n",
    "\n",
    "    train_processed = process_name(train_processed)\n",
    "    test_processed = process_name(test_processed)\n",
    "\n",
    "    # Compute mean values from train\n",
    "    age_mean = train_processed[\"Age\"].mean()\n",
    "    grouped_age_means = train_processed.groupby(['Name_Title', 'Pclass'])['Age'].mean()\n",
    "\n",
    "    fare_mean = train_processed['Fare'].mean()\n",
    "\n",
    "    train_processed = impute_age(train_processed, age_mean, grouped_age_means)\n",
    "    test_processed = impute_age(test_processed, age_mean, grouped_age_means)\n",
    "\n",
    "    train_processed = fill_fare_na(train_processed, fare_mean)\n",
    "    test_processed = fill_fare_na(test_processed, fare_mean)\n",
    "\n",
    "    train_processed = impute_embarked(train_processed)\n",
    "    test_processed = impute_embarked(test_processed)\n",
    "\n",
    "    train_processed = size_family(train_processed)\n",
    "    test_processed = size_family(test_processed)\n",
    "\n",
    "    train_processed = group_ticket(train_processed)\n",
    "    test_processed = group_ticket(test_processed)\n",
    "\n",
    "    train_processed = get_cabin_number(train_processed)\n",
    "    test_processed = get_cabin_number(test_processed)\n",
    "\n",
    "    # Compute cabin number bins from train\n",
    "    _, cabin_number_bins = pd.qcut(train_processed['Cabin_Number'], 3, retbins=True, labels=False)\n",
    "\n",
    "    train_processed = get_dummy_cabin_number(train_processed, cabin_number_bins)\n",
    "    test_processed = get_dummy_cabin_number(test_processed, cabin_number_bins)\n",
    "\n",
    "    train_processed = get_cabin_first_letter(train_processed)\n",
    "    test_processed = get_cabin_first_letter(test_processed)\n",
    "\n",
    "    train_processed = get_cabin_number(train_processed)\n",
    "    test_processed = get_cabin_number(test_processed)\n",
    "\n",
    "    # Compute dummy column values from train\n",
    "    dummy_columns_values = pd.get_dummies(\n",
    "        train_processed.loc[:, dummy_columns].applymap(str), prefix=dummy_columns\n",
    "    ).columns\n",
    "\n",
    "    train_processed = dummy_cols(train_processed, dummy_columns, dummy_columns_values)\n",
    "    test_processed = dummy_cols(test_processed, dummy_columns, dummy_columns_values)\n",
    "\n",
    "    train_processed = drop_cols(train_processed, drop_columns)\n",
    "    test_processed = drop_cols(test_processed, drop_columns)\n",
    "\n",
    "    return train_processed, test_processed"
   ]
  },
  {
   "cell_type": "markdown",
   "metadata": {
    "_cell_guid": "8d1efbbb-e0dd-f3d4-acd3-ef9eb5c396e2",
    "pycharm": {
     "name": "#%% md\n"
    }
   },
   "source": [
    "Having built our helper functions, we can now execute them in order to build our dataset that will be used in the model:a"
   ]
  },
  {
   "cell_type": "code",
   "execution_count": null,
   "metadata": {
    "_cell_guid": "d004f91d-1c6b-e281-6e4c-45b44eadbcca",
    "pycharm": {
     "name": "#%%\n"
    }
   },
   "outputs": [],
   "source": [
    "drop_columns = ['Name', 'SibSp', 'Parch', 'Cabin', 'Ticket', 'Ticket_Letter', 'Pclass', 'Sex', 'Embarked',\n",
    "             'Ticket_Category', 'Cabin_Letter', 'Name_Title', 'Family_Size', 'PassengerId', 'Cabin_Number']\n",
    "dummy_columns = ['Pclass', 'Sex', 'Embarked', 'Ticket_Category', 'Cabin_Letter', 'Name_Title', 'Family_Size']\n",
    "\n",
    "train_processed, test_processed = process_data(train, test, dummy_columns, drop_columns) "
   ]
  },
  {
   "attachments": {},
   "cell_type": "markdown",
   "metadata": {
    "_cell_guid": "35d843bc-3607-f11a-55f9-2828cf5eb91e",
    "pycharm": {
     "name": "#%% md\n"
    }
   },
   "source": [
    "We can see that our final dataset has 55 columns, composed of our target column and 44 predictor variables. Although highly dimensional datasets can result in high variance, I think we should be fine here."
   ]
  },
  {
   "cell_type": "code",
   "execution_count": null,
   "metadata": {
    "_cell_guid": "09391302-b621-4730-7589-7eb017286e7f",
    "pycharm": {
     "name": "#%%\n"
    }
   },
   "outputs": [],
   "source": [
    "print(len(train_processed.columns))"
   ]
  },
  {
   "cell_type": "markdown",
   "metadata": {
    "_cell_guid": "1066e65e-e578-e896-5c38-1457a947ec6f"
   },
   "source": [
    "### Hyperparameter Tuning"
   ]
  },
  {
   "cell_type": "markdown",
   "metadata": {
    "_cell_guid": "32b4e910-cbe5-04c6-4383-c6f02483e595"
   },
   "source": [
    "We will use grid search to identify the optimal parameters of our random forest model. Because our training dataset is quite small, we can get away with testing a wider range of hyperparameter values. When I ran this on my 8 GB Windows machine, the process took less than ten minutes. I will not run it here for the sake of saving myself time, but I will discuss the results of this grid search."
   ]
  },
  {
   "cell_type": "markdown",
   "metadata": {
    "_cell_guid": "7f6c54fa-033e-075f-0e86-c9c0b469a03b"
   },
   "source": [
    "from sklearn.model_selection import GridSearchCV  \n",
    "from sklearn.ensemble import RandomForestClassifier\n",
    "\n",
    "rf = RandomForestClassifier(max_features='auto',\n",
    "                                oob_score=True,\n",
    "                                random_state=1,\n",
    "                                n_jobs=-1)\n",
    "\n",
    "param_grid = { \"criterion\"   : [\"gini\", \"entropy\"],\n",
    "             \"min_samples_leaf\" : [1, 5, 10],\n",
    "             \"min_samples_split\" : [2, 4, 10, 12, 16],\n",
    "             \"n_estimators\": [50, 100, 400, 700, 1000]}\n",
    "\n",
    "gs = GridSearchCV(estimator=rf,\n",
    "                  param_grid=param_grid,\n",
    "                  scoring='accuracy',\n",
    "                  cv=3,\n",
    "                  n_jobs=-1)\n",
    "\n",
    "gs = gs.fit(train.iloc[:, 1:], train.iloc[:, 0])\n",
    "\n",
    "print(gs.best_score_)   \n",
    "print(gs.best_params_)  \n",
    "print(gs.cv_results_)"
   ]
  },
  {
   "cell_type": "markdown",
   "metadata": {
    "_cell_guid": "11038f38-44d4-0cbd-328b-1ad7196819fe"
   },
   "source": [
    "Looking at the results of the grid search:  \n",
    "\n",
    "0.838383838384  \n",
    "{'min_samples_split': 10, 'n_estimators': 700, 'criterion': 'gini', 'min_samples_leaf': 1}  \n",
    "\n",
    "...we can see that our optimal parameter settings are not at the endpoints of our provided values, meaning that we do not have to test more values. What else can we say about our optimal values? The `min_samples_split` parameter is at 10, which should help mitigate overfitting to a certain degree. This is especially good because we have a relatively large number of estimators (700), which could potentially increase our generalization error."
   ]
  },
  {
   "cell_type": "markdown",
   "metadata": {
    "_cell_guid": "c95a0ff7-0f68-7e28-0c9c-36a52808f578"
   },
   "source": [
    "### Model Estimation and Evaluation<a name=\"model\"></a>"
   ]
  },
  {
   "attachments": {},
   "cell_type": "markdown",
   "metadata": {
    "_cell_guid": "e494ad2b-92e3-782f-13c1-f53a86602298",
    "pycharm": {
     "name": "#%% md\n"
    }
   },
   "source": [
    "We are now ready to fit our model using the optimal hyperparameters. The out-of-bag score can give us an unbiased estimate of the model accuracy, and we can see that the score is 83.73%, which is only a little higher than our final leaderboard score."
   ]
  },
  {
   "cell_type": "code",
   "execution_count": null,
   "metadata": {
    "_cell_guid": "5593980a-4145-9594-299c-f4d1a9f01970",
    "pycharm": {
     "name": "#%%\n"
    }
   },
   "outputs": [],
   "source": [
    "from sklearn.ensemble import RandomForestClassifier\n",
    "\n",
    "rf = RandomForestClassifier(criterion='gini', \n",
    "                             n_estimators=700,\n",
    "                             min_samples_split=10,\n",
    "                             min_samples_leaf=1,\n",
    "                             max_features='sqrt',\n",
    "                             oob_score=True,\n",
    "                             random_state=1,\n",
    "                             n_jobs=-1)\n",
    "rf.fit(train_processed.iloc[:, 1:], train_processed.iloc[:, 0])\n",
    "print(f'{rf.oob_score_:.4f}')"
   ]
  },
  {
   "cell_type": "markdown",
   "metadata": {
    "_cell_guid": "4b44766d-6974-b7f3-b801-eb5d9423ae49",
    "pycharm": {
     "name": "#%% md\n"
    }
   },
   "source": [
    "Let's take a brief look at our variable importance according to our random forest model. We can see that some of the original columns we predicted would be important in fact were, including gender, fare, and age. But we also see title, name length, and ticket length feature prominently, so we can pat ourselves on the back for creating such useful variables."
   ]
  },
  {
   "cell_type": "code",
   "execution_count": null,
   "metadata": {
    "_cell_guid": "d77e221b-352d-8669-05d9-f7defce05709",
    "pycharm": {
     "name": "#%%\n"
    }
   },
   "outputs": [],
   "source": [
    "pd.concat((pd.DataFrame(train_processed.iloc[:, 1:].columns, columns=['variable']), \n",
    "           pd.DataFrame(rf.feature_importances_, columns=['importance'])), \n",
    "          axis=1).sort_values(by='importance', ascending=False)[:20]"
   ]
  },
  {
   "cell_type": "markdown",
   "metadata": {
    "_cell_guid": "f4fbf72d-a7b6-1d14-73cb-7f763d291272",
    "pycharm": {
     "name": "#%% md\n"
    }
   },
   "source": [
    "Our last step is to predict the target variable for our test data and generate an output file that will be submitted to Kaggle. "
   ]
  },
  {
   "cell_type": "code",
   "execution_count": null,
   "metadata": {
    "pycharm": {
     "name": "#%%\n"
    }
   },
   "outputs": [],
   "source": [
    "predictions = rf.predict(test_processed)\n",
    "predictions = pd.DataFrame(predictions, columns=['Survived'])\n",
    "test = pd.read_csv(os.path.join('../input', 'test.csv'))\n",
    "predictions = pd.concat((test.iloc[:, 0], predictions), axis=1)\n",
    "predictions.to_csv('y_test_predictions.csv', sep=',', index=False)"
   ]
  },
  {
   "cell_type": "markdown",
   "metadata": {
    "_cell_guid": "ae3dcb9e-8e70-956a-a0eb-a5aa1f188a99"
   },
   "source": [
    "## Conclusion\n",
    "\n",
    "This exercise is a good example of how far basic feature engineering can take you. It is worth mentioning that I did try various other models before arriving at this one. Some of the other variations I tried were different groupings for the categorical variables (plenty more combinations remain), linear discriminant analysis on a couple numeric columns, and eliminating more variables, among other things. This is a competition with a generous allotment of submission attempts, and as a result, it's quite possible that even the leaderboard score is an overestimation of the true quality of the model, since the leaderboard can act as more of a validation score instead of a true test score. \n",
    "\n",
    "I welcome any comments and suggestions."
   ]
  }
 ],
 "metadata": {
  "_change_revision": 0,
  "_is_fork": false,
  "language_info": {
   "codemirror_mode": {
    "name": "ipython",
    "version": 3
   },
   "file_extension": ".py",
   "mimetype": "text/x-python",
   "name": "python",
   "nbconvert_exporter": "python",
   "pygments_lexer": "ipython3",
   "version": "3.10.9"
  }
 },
 "nbformat": 4,
 "nbformat_minor": 1
}
