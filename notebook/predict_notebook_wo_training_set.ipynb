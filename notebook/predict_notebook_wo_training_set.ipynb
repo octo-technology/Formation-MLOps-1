{
 "cells": [
  {
   "cell_type": "markdown",
   "metadata": {},
   "source": [
    "# Load fitted preprocessing pipeline"
   ]
  },
  {
   "cell_type": "markdown",
   "metadata": {},
   "source": [
    "We don't always have the training set available to train the preprocessing steps (which columns should be one hot encoded, what is the mean value of a given column from the training dataset...). The preprocessing pipeline has also been saved as a pkl and can apply transformations without training step.\n",
    "### The following steps would be applied:"
   ]
  },
  {
   "cell_type": "code",
   "execution_count": null,
   "metadata": {},
   "outputs": [],
   "source": [
    "import os\n",
    "\n",
    "import pandas as pd\n",
    "import pickle\n",
    "\n",
    "from indus.feature_engineering import get_preprocessing_pipeline"
   ]
  },
  {
   "cell_type": "code",
   "execution_count": null,
   "metadata": {},
   "outputs": [],
   "source": [
    "with open(\"../models/preprocess_sk_pipeline.pkl\", \"rb\") as file_in:\n",
    "    pipe = pickle.load(file_in)\n",
    "\n",
    "with open(\"../models/model_rf.pkl\", \"rb\") as file_in:\n",
    "    model = pickle.load(file_in)"
   ]
  },
  {
   "cell_type": "code",
   "execution_count": null,
   "metadata": {},
   "outputs": [],
   "source": [
    "test = pd.read_csv(os.path.join('../input', 'test.csv'))\n",
    "\n",
    "test_processed = pipe.transform(test)\n",
    "\n",
    "prediction_test = model.predict_proba(test_processed)\n",
    "prediction_test"
   ]
  }
 ],
 "metadata": {
  "kernelspec": {
   "display_name": "Python 3 (ipykernel)",
   "language": "python",
   "name": "python3"
  },
  "language_info": {
   "codemirror_mode": {
    "name": "ipython",
    "version": 3
   },
   "file_extension": ".py",
   "mimetype": "text/x-python",
   "name": "python",
   "nbconvert_exporter": "python",
   "pygments_lexer": "ipython3",
   "version": "3.11.3"
  }
 },
 "nbformat": 4,
 "nbformat_minor": 2
}
