{
 "cells": [
  {
   "cell_type": "markdown",
   "metadata": {},
   "source": [
    "# Load fitted preprocessing transformer"
   ]
  },
  {
   "cell_type": "markdown",
   "metadata": {},
   "source": [
    "We don't always have the training set available to train the preprocessing steps (which columns should be one hot encoded, what is the mean value of a given column from the training dataset...). The main preprocessing transformer has also been saved as a pkl and can apply transformations without training step.\n",
    "### The following steps would be applied:"
   ]
  },
  {
   "cell_type": "code",
   "execution_count": null,
   "metadata": {},
   "outputs": [],
   "source": [
    "import os\n",
    "\n",
    "import pandas as pd\n",
    "import pickle\n",
    "from sklearn.ensemble import RandomForestClassifier\n",
    "\n",
    "from indus.feature_engineering import Preprocessor"
   ]
  },
  {
   "cell_type": "code",
   "execution_count": null,
   "metadata": {},
   "outputs": [],
   "source": [
    "with open(\"../models/preprocessor.pkl\", \"rb\") as file_in:\n",
    "    transformer: Preprocessor = pickle.load(file_in)\n",
    "\n",
    "with open(\"../models/model_rf.pkl\", \"rb\") as file_in:\n",
    "    model: RandomForestClassifier = pickle.load(file_in)"
   ]
  },
  {
   "cell_type": "code",
   "execution_count": null,
   "metadata": {},
   "outputs": [],
   "source": [
    "test = pd.read_csv(os.path.join('../input', 'test.csv'))\n",
    "\n",
    "test_processed = transformer.transform(test)\n",
    "\n",
    "prediction_test = model.predict_proba(test_processed)\n",
    "prediction_test"
   ]
  }
 ],
 "metadata": {
  "kernelspec": {
   "display_name": "Python 3 (ipykernel)",
   "language": "python",
   "name": "python3"
  },
  "language_info": {
   "codemirror_mode": {
    "name": "ipython",
    "version": 3
   },
   "file_extension": ".py",
   "mimetype": "text/x-python",
   "name": "python",
   "nbconvert_exporter": "python",
   "pygments_lexer": "ipython3",
   "version": "3.10.10"
  }
 },
 "nbformat": 4,
 "nbformat_minor": 2
}
